{
 "cells": [
  {
   "cell_type": "code",
   "execution_count": 1,
   "metadata": {},
   "outputs": [],
   "source": [
    "import numpy as np\n"
   ]
  },
  {
   "cell_type": "code",
   "execution_count": 2,
   "metadata": {},
   "outputs": [],
   "source": [
    "states = ['Sunny', 'Cloudy', 'Rainy']\n",
    "transition_matrix = np.array([[0.8, 0.1, 0.1],  # From Sunny\n",
    "                              [0.2, 0.6, 0.2],  # From Cloudy\n",
    "                              [0.3, 0.4, 0.3]]) # From Rainy"
   ]
  },
  {
   "cell_type": "code",
   "execution_count": 3,
   "metadata": {},
   "outputs": [],
   "source": [
    "def predict_next_state(current_state):\n",
    "    current_index = states.index(current_state)\n",
    "    next_state_probabilities = transition_matrix[current_index]\n",
    "    return np.random.choice(states, p=next_state_probabilities)\n"
   ]
  },
  {
   "cell_type": "code",
   "execution_count": 11,
   "metadata": {},
   "outputs": [],
   "source": [
    "def predict_weather_for_days(start_state, days):\n",
    "    current_state = start_state\n",
    "    weather_sequence = [current_state]\n",
    "    for _ in range(days):\n",
    "        next_state = predict_next_state(current_state)\n",
    "        weather_sequence.append(next_state)\n",
    "        current_state = next_state\n",
    "\n",
    "    return weather_sequence"
   ]
  },
  {
   "cell_type": "code",
   "execution_count": 12,
   "metadata": {},
   "outputs": [
    {
     "name": "stdout",
     "output_type": "stream",
     "text": [
      "Weather forecast starting from Sunny for the next 5 days:\n",
      "Day 0: Sunny\n",
      "Day 1: Sunny\n",
      "Day 2: Sunny\n",
      "Day 3: Sunny\n",
      "Day 4: Cloudy\n",
      "Day 5: Cloudy\n"
     ]
    }
   ],
   "source": [
    "current_weather = 'Sunny'\n",
    "days_to_predict = 5\n",
    "predicted_weather = predict_weather_for_days(current_weather, days_to_predict)\n",
    "\n",
    "print(f'Weather forecast starting from {current_weather} for the next {days_to_predict} days:')\n",
    "for day, weather in enumerate(predicted_weather):\n",
    "    print(f'Day {day}: {weather}')"
   ]
  }
 ],
 "metadata": {
  "kernelspec": {
   "display_name": "base",
   "language": "python",
   "name": "python3"
  },
  "language_info": {
   "codemirror_mode": {
    "name": "ipython",
    "version": 3
   },
   "file_extension": ".py",
   "mimetype": "text/x-python",
   "name": "python",
   "nbconvert_exporter": "python",
   "pygments_lexer": "ipython3",
   "version": "3.11.5"
  }
 },
 "nbformat": 4,
 "nbformat_minor": 2
}
